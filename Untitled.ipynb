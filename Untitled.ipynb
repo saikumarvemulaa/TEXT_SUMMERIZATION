{
 "cells": [
  {
   "cell_type": "code",
   "execution_count": null,
   "id": "587233e6",
   "metadata": {},
   "outputs": [],
   "source": [
    "import os\n",
    "from pathlib import Path\n",
    "import logging"
   ]
  },
  {
   "cell_type": "code",
   "execution_count": 7,
   "id": "8b26665f",
   "metadata": {},
   "outputs": [],
   "source": [
    "logging.basicConfig(level=logging.INFO, format='[%(asctime)s]: %(message)s:')"
   ]
  },
  {
   "cell_type": "code",
   "execution_count": 10,
   "id": "5fa69348",
   "metadata": {},
   "outputs": [
    {
     "name": "stderr",
     "output_type": "stream",
     "text": [
      "[2024-02-04 12:37:54,688]: Creating directory:.github\\workflows for the file .gitkeep:\n",
      "[2024-02-04 12:37:54,692]: Creating empty file: .github\\workflows\\.gitkeep:\n",
      "[2024-02-04 12:37:54,694]: Creating directory:src\\textSummarizer for the file __init__.py:\n",
      "[2024-02-04 12:37:54,697]: Creating empty file: src\\textSummarizer\\__init__.py:\n",
      "[2024-02-04 12:37:54,698]: Creating directory:src\\textSummarizer\\conponents for the file __init__.py:\n",
      "[2024-02-04 12:37:54,700]: Creating empty file: src\\textSummarizer\\conponents\\__init__.py:\n",
      "[2024-02-04 12:37:54,702]: Creating directory:src\\textSummarizer\\utils for the file __init__.py:\n",
      "[2024-02-04 12:37:54,703]: Creating empty file: src\\textSummarizer\\utils\\__init__.py:\n",
      "[2024-02-04 12:37:54,705]: Creating directory:src\\textSummarizer\\utils for the file common.py:\n",
      "[2024-02-04 12:37:54,708]: Creating empty file: src\\textSummarizer\\utils\\common.py:\n",
      "[2024-02-04 12:37:54,709]: Creating directory:src\\textSummarizer\\logging for the file __init__.py:\n",
      "[2024-02-04 12:37:54,711]: Creating empty file: src\\textSummarizer\\logging\\__init__.py:\n",
      "[2024-02-04 12:37:54,714]: Creating directory:src\\textSummarizer\\config for the file __init__.py:\n",
      "[2024-02-04 12:37:54,718]: Creating empty file: src\\textSummarizer\\config\\__init__.py:\n",
      "[2024-02-04 12:37:54,720]: Creating directory:src\\textSummarizer\\config for the file configuration.py:\n",
      "[2024-02-04 12:37:54,724]: Creating empty file: src\\textSummarizer\\config\\configuration.py:\n",
      "[2024-02-04 12:37:54,727]: Creating directory:src\\textSummarizer\\pipeline for the file __init__.py:\n",
      "[2024-02-04 12:37:54,731]: Creating empty file: src\\textSummarizer\\pipeline\\__init__.py:\n",
      "[2024-02-04 12:37:54,733]: Creating directory:src\\textSummarizer\\entity for the file __init__.py:\n",
      "[2024-02-04 12:37:54,739]: Creating empty file: src\\textSummarizer\\entity\\__init__.py:\n",
      "[2024-02-04 12:37:54,742]: Creating directory:src\\textSummarizer\\constants for the file __init__.py:\n",
      "[2024-02-04 12:37:54,745]: Creating empty file: src\\textSummarizer\\constants\\__init__.py:\n",
      "[2024-02-04 12:37:54,748]: Creating directory:config for the file config.yaml:\n",
      "[2024-02-04 12:37:54,752]: Creating empty file: config\\config.yaml:\n",
      "[2024-02-04 12:37:54,757]: Creating empty file: params.yaml:\n",
      "[2024-02-04 12:37:54,760]: Creating empty file: app.py:\n",
      "[2024-02-04 12:37:54,766]: Creating empty file: main.py:\n",
      "[2024-02-04 12:37:54,770]: Creating empty file: Dockerfile:\n",
      "[2024-02-04 12:37:54,775]: Creating empty file: requirements.txt:\n",
      "[2024-02-04 12:37:54,778]: Creating empty file: setup.py:\n",
      "[2024-02-04 12:37:54,782]: Creating directory:research for the file trials.ipynb:\n",
      "[2024-02-04 12:37:54,786]: Creating empty file: research\\trials.ipynb:\n",
      "[2024-02-04 12:37:54,790]: Creating empty file: test.py:\n"
     ]
    }
   ],
   "source": [
    "project_name = \"textSummarizer\"\n",
    "\n",
    "list_of_files = [\n",
    "    \".github/workflows/.gitkeep\",\n",
    "    f\"src/{project_name}/__init__.py\",\n",
    "    f\"src/{project_name}/conponents/__init__.py\",\n",
    "    f\"src/{project_name}/utils/__init__.py\",\n",
    "    f\"src/{project_name}/utils/common.py\",\n",
    "    f\"src/{project_name}/logging/__init__.py\",\n",
    "    f\"src/{project_name}/config/__init__.py\",\n",
    "    f\"src/{project_name}/config/configuration.py\",\n",
    "    f\"src/{project_name}/pipeline/__init__.py\",\n",
    "    f\"src/{project_name}/entity/__init__.py\",\n",
    "    f\"src/{project_name}/constants/__init__.py\",\n",
    "    \"config/config.yaml\",\n",
    "    \"params.yaml\",\n",
    "    \"app.py\",\n",
    "    \"main.py\",\n",
    "    \"Dockerfile\",\n",
    "    \"requirements.txt\",\n",
    "    \"setup.py\",\n",
    "    \"research/trials.ipynb\",\n",
    "    \"test.py\"\n",
    "    ]\n",
    "\n",
    "\n",
    "for filepath in list_of_files:\n",
    "    filepath = Path(filepath)\n",
    "    filedir, filename = os.path.split(filepath)\n",
    "\n",
    "    if filedir != \"\":\n",
    "        os.makedirs(filedir, exist_ok=True)\n",
    "        logging.info(f\"Creating directory:{filedir} for the file {filename}\")\n",
    "\n",
    "    \n",
    "    if (not os.path.exists(filepath)) or (os.path.getsize(filepath) == 0):\n",
    "        with open(filepath,'w') as f:\n",
    "            pass\n",
    "            logging.info(f\"Creating empty file: {filepath}\")\n",
    "\n",
    "\n",
    "    \n",
    "    else:\n",
    "        logging.info(f\"{filename} is already exists\")"
   ]
  },
  {
   "cell_type": "code",
   "execution_count": null,
   "id": "98e5761a",
   "metadata": {},
   "outputs": [],
   "source": []
  }
 ],
 "metadata": {
  "kernelspec": {
   "display_name": "Python 3 (ipykernel)",
   "language": "python",
   "name": "python3"
  },
  "language_info": {
   "codemirror_mode": {
    "name": "ipython",
    "version": 3
   },
   "file_extension": ".py",
   "mimetype": "text/x-python",
   "name": "python",
   "nbconvert_exporter": "python",
   "pygments_lexer": "ipython3",
   "version": "3.9.13"
  }
 },
 "nbformat": 4,
 "nbformat_minor": 5
}
