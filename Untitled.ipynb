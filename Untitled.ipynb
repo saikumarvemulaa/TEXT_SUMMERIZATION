{
 "cells": [
  {
   "cell_type": "code",
   "execution_count": null,
   "id": "587233e6",
   "metadata": {},
   "outputs": [],
   "source": [
    "import os\n",
    "from pathlib import Path\n",
    "import logging"
   ]
  },
  {
   "cell_type": "code",
   "execution_count": 7,
   "id": "8b26665f",
   "metadata": {},
   "outputs": [],
   "source": [
    "logging.basicConfig(level=logging.INFO, format='[%(asctime)s]: %(message)s:')"
   ]
  },
  {
   "cell_type": "code",
   "execution_count": 10,
   "id": "3470abd7",
   "metadata": {},
   "outputs": [
    {
     "name": "stderr",
     "output_type": "stream",
     "text": [
      "[2024-02-04 12:37:54,688]: Creating directory:.github\\workflows for the file .gitkeep:\n",
      "[2024-02-04 12:37:54,692]: Creating empty file: .github\\workflows\\.gitkeep:\n",
      "[2024-02-04 12:37:54,694]: Creating directory:src\\textSummarizer for the file __init__.py:\n",
      "[2024-02-04 12:37:54,697]: Creating empty file: src\\textSummarizer\\__init__.py:\n",
      "[2024-02-04 12:37:54,698]: Creating directory:src\\textSummarizer\\conponents for the file __init__.py:\n",
      "[2024-02-04 12:37:54,700]: Creating empty file: src\\textSummarizer\\conponents\\__init__.py:\n",
      "[2024-02-04 12:37:54,702]: Creating directory:src\\textSummarizer\\utils for the file __init__.py:\n",
      "[2024-02-04 12:37:54,703]: Creating empty file: src\\textSummarizer\\utils\\__init__.py:\n",
      "[2024-02-04 12:37:54,705]: Creating directory:src\\textSummarizer\\utils for the file common.py:\n",
      "[2024-02-04 12:37:54,708]: Creating empty file: src\\textSummarizer\\utils\\common.py:\n",
      "[2024-02-04 12:37:54,709]: Creating directory:src\\textSummarizer\\logging for the file __init__.py:\n",
      "[2024-02-04 12:37:54,711]: Creating empty file: src\\textSummarizer\\logging\\__init__.py:\n",
      "[2024-02-04 12:37:54,714]: Creating directory:src\\textSummarizer\\config for the file __init__.py:\n",
      "[2024-02-04 12:37:54,718]: Creating empty file: src\\textSummarizer\\config\\__init__.py:\n",
      "[2024-02-04 12:37:54,720]: Creating directory:src\\textSummarizer\\config for the file configuration.py:\n",
      "[2024-02-04 12:37:54,724]: Creating empty file: src\\textSummarizer\\config\\configuration.py:\n",
      "[2024-02-04 12:37:54,727]: Creating directory:src\\textSummarizer\\pipeline for the file __init__.py:\n",
      "[2024-02-04 12:37:54,731]: Creating empty file: src\\textSummarizer\\pipeline\\__init__.py:\n",
      "[2024-02-04 12:37:54,733]: Creating directory:src\\textSummarizer\\entity for the file __init__.py:\n",
      "[2024-02-04 12:37:54,739]: Creating empty file: src\\textSummarizer\\entity\\__init__.py:\n",
      "[2024-02-04 12:37:54,742]: Creating directory:src\\textSummarizer\\constants for the file __init__.py:\n",
      "[2024-02-04 12:37:54,745]: Creating empty file: src\\textSummarizer\\constants\\__init__.py:\n",
      "[2024-02-04 12:37:54,748]: Creating directory:config for the file config.yaml:\n",
      "[2024-02-04 12:37:54,752]: Creating empty file: config\\config.yaml:\n",
      "[2024-02-04 12:37:54,757]: Creating empty file: params.yaml:\n",
      "[2024-02-04 12:37:54,760]: Creating empty file: app.py:\n",
      "[2024-02-04 12:37:54,766]: Creating empty file: main.py:\n",
      "[2024-02-04 12:37:54,770]: Creating empty file: Dockerfile:\n",
      "[2024-02-04 12:37:54,775]: Creating empty file: requirements.txt:\n",
      "[2024-02-04 12:37:54,778]: Creating empty file: setup.py:\n",
      "[2024-02-04 12:37:54,782]: Creating directory:research for the file trials.ipynb:\n",
      "[2024-02-04 12:37:54,786]: Creating empty file: research\\trials.ipynb:\n",
      "[2024-02-04 12:37:54,790]: Creating empty file: test.py:\n"
     ]
    }
   ],
   "source": [
    "project_name = \"textSummarizer\"\n",
    "\n",
    "list_of_files = [\n",
    "    \".github/workflows/.gitkeep\",\n",
    "    f\"src/{project_name}/__init__.py\",\n",
    "    f\"src/{project_name}/conponents/__init__.py\",\n",
    "    f\"src/{project_name}/utils/__init__.py\",\n",
    "    f\"src/{project_name}/utils/common.py\",\n",
    "    f\"src/{project_name}/logging/__init__.py\",\n",
    "    f\"src/{project_name}/config/__init__.py\",\n",
    "    f\"src/{project_name}/config/configuration.py\",\n",
    "    f\"src/{project_name}/pipeline/__init__.py\",\n",
    "    f\"src/{project_name}/entity/__init__.py\",\n",
    "    f\"src/{project_name}/constants/__init__.py\",\n",
    "    \"config/config.yaml\",\n",
    "    \"params.yaml\",\n",
    "    \"app.py\",\n",
    "    \"main.py\",\n",
    "    \"Dockerfile\",\n",
    "    \"requirements.txt\",\n",
    "    \"setup.py\",\n",
    "    \"research/trials.ipynb\",\n",
    "    \"test.py\"\n",
    "    ]\n",
    "\n",
    "\n",
    "for filepath in list_of_files:\n",
    "    filepath = Path(filepath)\n",
    "    filedir, filename = os.path.split(filepath)\n",
    "\n",
    "    if filedir != \"\":\n",
    "        os.makedirs(filedir, exist_ok=True)\n",
    "        logging.info(f\"Creating directory:{filedir} for the file {filename}\")\n",
    "\n",
    "    \n",
    "    if (not os.path.exists(filepath)) or (os.path.getsize(filepath) == 0):\n",
    "        with open(filepath,'w') as f:\n",
    "            pass\n",
    "            logging.info(f\"Creating empty file: {filepath}\")\n",
    "\n",
    "\n",
    "    \n",
    "    else:\n",
    "        logging.info(f\"{filename} is already exists\")"
   ]
  },
  {
   "cell_type": "code",
   "execution_count": 13,
   "id": "158a0e77",
   "metadata": {},
   "outputs": [
    {
     "name": "stdout",
     "output_type": "stream",
     "text": [
      "Looking in indexes: https://download.pytorch.org/whl/cu118\n",
      "Collecting torch\n",
      "  Downloading https://download.pytorch.org/whl/cu118/torch-2.2.0%2Bcu118-cp39-cp39-win_amd64.whl (2704.2 MB)\n",
      "     ---------------------------------------- 2.7/2.7 GB ? eta 0:00:00\n",
      "Collecting torchvision\n",
      "  Downloading https://download.pytorch.org/whl/cu118/torchvision-0.17.0%2Bcu118-cp39-cp39-win_amd64.whl (4.9 MB)\n",
      "     ---------------------------------------- 4.9/4.9 MB 2.7 MB/s eta 0:00:00\n",
      "Collecting torchaudio\n",
      "  Downloading https://download.pytorch.org/whl/cu118/torchaudio-2.2.0%2Bcu118-cp39-cp39-win_amd64.whl (4.0 MB)\n",
      "     ---------------------------------------- 4.0/4.0 MB 2.7 MB/s eta 0:00:00\n",
      "Requirement already satisfied: networkx in c:\\users\\saiku\\anaconda3\\lib\\site-packages (from torch) (2.8.4)\n",
      "Requirement already satisfied: filelock in c:\\users\\saiku\\anaconda3\\lib\\site-packages (from torch) (3.6.0)\n",
      "Collecting typing-extensions>=4.8.0\n",
      "  Downloading https://download.pytorch.org/whl/typing_extensions-4.8.0-py3-none-any.whl (31 kB)\n",
      "Requirement already satisfied: sympy in c:\\users\\saiku\\anaconda3\\lib\\site-packages (from torch) (1.10.1)\n",
      "Requirement already satisfied: fsspec in c:\\users\\saiku\\anaconda3\\lib\\site-packages (from torch) (2022.7.1)\n",
      "Requirement already satisfied: jinja2 in c:\\users\\saiku\\anaconda3\\lib\\site-packages (from torch) (2.11.3)\n",
      "Requirement already satisfied: requests in c:\\users\\saiku\\anaconda3\\lib\\site-packages (from torchvision) (2.31.0)\n",
      "Requirement already satisfied: numpy in c:\\users\\saiku\\anaconda3\\lib\\site-packages (from torchvision) (1.22.1)\n",
      "Requirement already satisfied: pillow!=8.3.*,>=5.3.0 in c:\\users\\saiku\\anaconda3\\lib\\site-packages (from torchvision) (9.2.0)\n",
      "Requirement already satisfied: MarkupSafe>=0.23 in c:\\users\\saiku\\anaconda3\\lib\\site-packages (from jinja2->torch) (2.0.1)\n",
      "Requirement already satisfied: idna<4,>=2.5 in c:\\users\\saiku\\anaconda3\\lib\\site-packages (from requests->torchvision) (3.3)\n",
      "Requirement already satisfied: urllib3<3,>=1.21.1 in c:\\users\\saiku\\anaconda3\\lib\\site-packages (from requests->torchvision) (1.26.11)\n",
      "Requirement already satisfied: certifi>=2017.4.17 in c:\\users\\saiku\\anaconda3\\lib\\site-packages (from requests->torchvision) (2022.9.14)\n",
      "Requirement already satisfied: charset-normalizer<4,>=2 in c:\\users\\saiku\\anaconda3\\lib\\site-packages (from requests->torchvision) (2.0.4)\n",
      "Requirement already satisfied: mpmath>=0.19 in c:\\users\\saiku\\anaconda3\\lib\\site-packages (from sympy->torch) (1.2.1)\n",
      "Installing collected packages: typing-extensions, torch, torchvision, torchaudio\n",
      "  Attempting uninstall: typing-extensions\n",
      "    Found existing installation: typing_extensions 4.3.0\n",
      "    Uninstalling typing_extensions-4.3.0:\n",
      "      Successfully uninstalled typing_extensions-4.3.0\n",
      "Successfully installed torch-2.2.0+cu118 torchaudio-2.2.0+cu118 torchvision-0.17.0+cu118 typing-extensions-4.8.0\n"
     ]
    },
    {
     "name": "stderr",
     "output_type": "stream",
     "text": [
      "ERROR: pip's dependency resolver does not currently take into account all the packages that are installed. This behaviour is the source of the following dependency conflicts.\n",
      "tensorflow-intel 2.13.0 requires keras<2.14,>=2.13.1, but you have keras 2.12.0 which is incompatible.\n",
      "tensorflow-intel 2.13.0 requires typing-extensions<4.6.0,>=3.6.6, but you have typing-extensions 4.8.0 which is incompatible.\n"
     ]
    }
   ],
   "source": [
    "! pip3 install torch torchvision torchaudio --index-url https://download.pytorch.org/whl/cu118"
   ]
  },
  {
   "cell_type": "code",
   "execution_count": 15,
   "id": "5cef2fdd",
   "metadata": {},
   "outputs": [
    {
     "name": "stdout",
     "output_type": "stream",
     "text": [
      "Requirement already satisfied: tensorflow[and-cuda] in c:\\users\\saiku\\anaconda3\\lib\\site-packages (2.13.0)\n",
      "Requirement already satisfied: tensorflow-intel==2.13.0 in c:\\users\\saiku\\anaconda3\\lib\\site-packages (from tensorflow[and-cuda]) (2.13.0)\n",
      "Requirement already satisfied: tensorboard<2.14,>=2.13 in c:\\users\\saiku\\anaconda3\\lib\\site-packages (from tensorflow-intel==2.13.0->tensorflow[and-cuda]) (2.13.0)\n",
      "Requirement already satisfied: packaging in c:\\users\\saiku\\anaconda3\\lib\\site-packages (from tensorflow-intel==2.13.0->tensorflow[and-cuda]) (21.3)\n",
      "Requirement already satisfied: setuptools in c:\\users\\saiku\\anaconda3\\lib\\site-packages (from tensorflow-intel==2.13.0->tensorflow[and-cuda]) (63.4.1)\n",
      "Requirement already satisfied: gast<=0.4.0,>=0.2.1 in c:\\users\\saiku\\anaconda3\\lib\\site-packages (from tensorflow-intel==2.13.0->tensorflow[and-cuda]) (0.4.0)\n",
      "Collecting keras<2.14,>=2.13.1\n",
      "  Using cached keras-2.13.1-py3-none-any.whl (1.7 MB)\n",
      "Requirement already satisfied: google-pasta>=0.1.1 in c:\\users\\saiku\\anaconda3\\lib\\site-packages (from tensorflow-intel==2.13.0->tensorflow[and-cuda]) (0.2.0)\n",
      "Requirement already satisfied: h5py>=2.9.0 in c:\\users\\saiku\\anaconda3\\lib\\site-packages (from tensorflow-intel==2.13.0->tensorflow[and-cuda]) (3.7.0)\n",
      "Requirement already satisfied: protobuf!=4.21.0,!=4.21.1,!=4.21.2,!=4.21.3,!=4.21.4,!=4.21.5,<5.0.0dev,>=3.20.3 in c:\\users\\saiku\\anaconda3\\lib\\site-packages (from tensorflow-intel==2.13.0->tensorflow[and-cuda]) (4.24.0)\n",
      "Requirement already satisfied: tensorflow-io-gcs-filesystem>=0.23.1 in c:\\users\\saiku\\anaconda3\\lib\\site-packages (from tensorflow-intel==2.13.0->tensorflow[and-cuda]) (0.31.0)\n",
      "Requirement already satisfied: libclang>=13.0.0 in c:\\users\\saiku\\anaconda3\\lib\\site-packages (from tensorflow-intel==2.13.0->tensorflow[and-cuda]) (16.0.6)\n",
      "Requirement already satisfied: termcolor>=1.1.0 in c:\\users\\saiku\\anaconda3\\lib\\site-packages (from tensorflow-intel==2.13.0->tensorflow[and-cuda]) (2.3.0)\n",
      "Requirement already satisfied: wrapt>=1.11.0 in c:\\users\\saiku\\anaconda3\\lib\\site-packages (from tensorflow-intel==2.13.0->tensorflow[and-cuda]) (1.14.1)\n",
      "Requirement already satisfied: flatbuffers>=23.1.21 in c:\\users\\saiku\\anaconda3\\lib\\site-packages (from tensorflow-intel==2.13.0->tensorflow[and-cuda]) (23.5.26)\n",
      "Requirement already satisfied: tensorflow-estimator<2.14,>=2.13.0 in c:\\users\\saiku\\anaconda3\\lib\\site-packages (from tensorflow-intel==2.13.0->tensorflow[and-cuda]) (2.13.0)\n",
      "Requirement already satisfied: astunparse>=1.6.0 in c:\\users\\saiku\\anaconda3\\lib\\site-packages (from tensorflow-intel==2.13.0->tensorflow[and-cuda]) (1.6.3)\n",
      "Requirement already satisfied: numpy<=1.24.3,>=1.22 in c:\\users\\saiku\\anaconda3\\lib\\site-packages (from tensorflow-intel==2.13.0->tensorflow[and-cuda]) (1.22.1)\n",
      "Requirement already satisfied: grpcio<2.0,>=1.24.3 in c:\\users\\saiku\\anaconda3\\lib\\site-packages (from tensorflow-intel==2.13.0->tensorflow[and-cuda]) (1.56.2)\n",
      "Requirement already satisfied: opt-einsum>=2.3.2 in c:\\users\\saiku\\anaconda3\\lib\\site-packages (from tensorflow-intel==2.13.0->tensorflow[and-cuda]) (3.3.0)\n",
      "Requirement already satisfied: six>=1.12.0 in c:\\users\\saiku\\anaconda3\\lib\\site-packages (from tensorflow-intel==2.13.0->tensorflow[and-cuda]) (1.16.0)\n",
      "Collecting typing-extensions<4.6.0,>=3.6.6\n",
      "  Downloading typing_extensions-4.5.0-py3-none-any.whl (27 kB)\n",
      "Requirement already satisfied: absl-py>=1.0.0 in c:\\users\\saiku\\anaconda3\\lib\\site-packages (from tensorflow-intel==2.13.0->tensorflow[and-cuda]) (1.4.0)\n",
      "Requirement already satisfied: wheel<1.0,>=0.23.0 in c:\\users\\saiku\\anaconda3\\lib\\site-packages (from astunparse>=1.6.0->tensorflow-intel==2.13.0->tensorflow[and-cuda]) (0.37.1)\n",
      "Requirement already satisfied: werkzeug>=1.0.1 in c:\\users\\saiku\\anaconda3\\lib\\site-packages (from tensorboard<2.14,>=2.13->tensorflow-intel==2.13.0->tensorflow[and-cuda]) (2.0.3)\n",
      "Requirement already satisfied: google-auth<3,>=1.6.3 in c:\\users\\saiku\\anaconda3\\lib\\site-packages (from tensorboard<2.14,>=2.13->tensorflow-intel==2.13.0->tensorflow[and-cuda]) (2.22.0)\n",
      "Requirement already satisfied: tensorboard-data-server<0.8.0,>=0.7.0 in c:\\users\\saiku\\anaconda3\\lib\\site-packages (from tensorboard<2.14,>=2.13->tensorflow-intel==2.13.0->tensorflow[and-cuda]) (0.7.1)\n",
      "Requirement already satisfied: markdown>=2.6.8 in c:\\users\\saiku\\anaconda3\\lib\\site-packages (from tensorboard<2.14,>=2.13->tensorflow-intel==2.13.0->tensorflow[and-cuda]) (3.3.4)\n",
      "Requirement already satisfied: google-auth-oauthlib<1.1,>=0.5 in c:\\users\\saiku\\anaconda3\\lib\\site-packages (from tensorboard<2.14,>=2.13->tensorflow-intel==2.13.0->tensorflow[and-cuda]) (1.0.0)\n",
      "Requirement already satisfied: requests<3,>=2.21.0 in c:\\users\\saiku\\anaconda3\\lib\\site-packages (from tensorboard<2.14,>=2.13->tensorflow-intel==2.13.0->tensorflow[and-cuda]) (2.31.0)\n",
      "Requirement already satisfied: pyparsing!=3.0.5,>=2.0.2 in c:\\users\\saiku\\anaconda3\\lib\\site-packages (from packaging->tensorflow-intel==2.13.0->tensorflow[and-cuda]) (3.0.9)\n",
      "Requirement already satisfied: urllib3<2.0 in c:\\users\\saiku\\anaconda3\\lib\\site-packages (from google-auth<3,>=1.6.3->tensorboard<2.14,>=2.13->tensorflow-intel==2.13.0->tensorflow[and-cuda]) (1.26.11)\n",
      "Requirement already satisfied: rsa<5,>=3.1.4 in c:\\users\\saiku\\anaconda3\\lib\\site-packages (from google-auth<3,>=1.6.3->tensorboard<2.14,>=2.13->tensorflow-intel==2.13.0->tensorflow[and-cuda]) (4.9)\n",
      "Requirement already satisfied: cachetools<6.0,>=2.0.0 in c:\\users\\saiku\\anaconda3\\lib\\site-packages (from google-auth<3,>=1.6.3->tensorboard<2.14,>=2.13->tensorflow-intel==2.13.0->tensorflow[and-cuda]) (5.3.1)\n",
      "Requirement already satisfied: pyasn1-modules>=0.2.1 in c:\\users\\saiku\\anaconda3\\lib\\site-packages (from google-auth<3,>=1.6.3->tensorboard<2.14,>=2.13->tensorflow-intel==2.13.0->tensorflow[and-cuda]) (0.2.8)\n",
      "Requirement already satisfied: requests-oauthlib>=0.7.0 in c:\\users\\saiku\\anaconda3\\lib\\site-packages (from google-auth-oauthlib<1.1,>=0.5->tensorboard<2.14,>=2.13->tensorflow-intel==2.13.0->tensorflow[and-cuda]) (1.3.1)\n",
      "Requirement already satisfied: certifi>=2017.4.17 in c:\\users\\saiku\\anaconda3\\lib\\site-packages (from requests<3,>=2.21.0->tensorboard<2.14,>=2.13->tensorflow-intel==2.13.0->tensorflow[and-cuda]) (2022.9.14)\n",
      "Requirement already satisfied: idna<4,>=2.5 in c:\\users\\saiku\\anaconda3\\lib\\site-packages (from requests<3,>=2.21.0->tensorboard<2.14,>=2.13->tensorflow-intel==2.13.0->tensorflow[and-cuda]) (3.3)\n",
      "Requirement already satisfied: charset-normalizer<4,>=2 in c:\\users\\saiku\\anaconda3\\lib\\site-packages (from requests<3,>=2.21.0->tensorboard<2.14,>=2.13->tensorflow-intel==2.13.0->tensorflow[and-cuda]) (2.0.4)\n",
      "Requirement already satisfied: pyasn1<0.5.0,>=0.4.6 in c:\\users\\saiku\\anaconda3\\lib\\site-packages (from pyasn1-modules>=0.2.1->google-auth<3,>=1.6.3->tensorboard<2.14,>=2.13->tensorflow-intel==2.13.0->tensorflow[and-cuda]) (0.4.8)\n",
      "Requirement already satisfied: oauthlib>=3.0.0 in c:\\users\\saiku\\anaconda3\\lib\\site-packages (from requests-oauthlib>=0.7.0->google-auth-oauthlib<1.1,>=0.5->tensorboard<2.14,>=2.13->tensorflow-intel==2.13.0->tensorflow[and-cuda]) (3.2.2)\n",
      "Installing collected packages: typing-extensions, keras\n",
      "  Attempting uninstall: typing-extensions\n",
      "    Found existing installation: typing_extensions 4.8.0\n",
      "    Uninstalling typing_extensions-4.8.0:\n",
      "      Successfully uninstalled typing_extensions-4.8.0\n",
      "  Attempting uninstall: keras\n",
      "    Found existing installation: keras 2.12.0\n",
      "    Uninstalling keras-2.12.0:\n",
      "      Successfully uninstalled keras-2.12.0\n",
      "Successfully installed keras-2.13.1 typing-extensions-4.5.0\n"
     ]
    },
    {
     "name": "stderr",
     "output_type": "stream",
     "text": [
      "WARNING: tensorflow 2.13.0 does not provide the extra 'and-cuda'\n",
      "ERROR: pip's dependency resolver does not currently take into account all the packages that are installed. This behaviour is the source of the following dependency conflicts.\n",
      "torch 2.2.0+cu118 requires typing-extensions>=4.8.0, but you have typing-extensions 4.5.0 which is incompatible.\n"
     ]
    },
    {
     "data": {
      "text/plain": [
       "\"import tensorflow as tf; print(tf.config.list_physical_devices('GPU'))\""
      ]
     },
     "execution_count": 15,
     "metadata": {},
     "output_type": "execute_result"
    }
   ],
   "source": [
    "!pip install tensorflow[and-cuda]\n",
    "# Verify the installation:\n",
    "\"import tensorflow as tf; print(tf.config.list_physical_devices('GPU'))\""
   ]
  },
  {
   "cell_type": "code",
   "execution_count": 16,
   "id": "dae17ea7",
   "metadata": {},
   "outputs": [
    {
     "name": "stdout",
     "output_type": "stream",
     "text": [
      "Collecting tensorflow-gpu\n",
      "  Downloading tensorflow-gpu-2.12.0.tar.gz (2.6 kB)\n",
      "  Preparing metadata (setup.py): started\n",
      "  Preparing metadata (setup.py): finished with status 'done'\n",
      "Collecting python_version>\"3.7\"\n",
      "  Downloading python_version-0.0.2-py2.py3-none-any.whl (3.4 kB)\n",
      "Building wheels for collected packages: tensorflow-gpu\n",
      "  Building wheel for tensorflow-gpu (setup.py): started\n",
      "  Building wheel for tensorflow-gpu (setup.py): finished with status 'error'\n",
      "  Running setup.py clean for tensorflow-gpu\n",
      "Failed to build tensorflow-gpu\n",
      "Installing collected packages: python_version, tensorflow-gpu\n",
      "  Running setup.py install for tensorflow-gpu: started\n",
      "  Running setup.py install for tensorflow-gpu: finished with status 'error'\n"
     ]
    },
    {
     "name": "stderr",
     "output_type": "stream",
     "text": [
      "  error: subprocess-exited-with-error\n",
      "  \n",
      "  python setup.py bdist_wheel did not run successfully.\n",
      "  exit code: 1\n",
      "  \n",
      "  [18 lines of output]\n",
      "  Traceback (most recent call last):\n",
      "    File \"<string>\", line 2, in <module>\n",
      "    File \"<pip-setuptools-caller>\", line 34, in <module>\n",
      "    File \"C:\\Users\\saiku\\AppData\\Local\\Temp\\pip-install-074s0f_q\\tensorflow-gpu_26fd317cf81740728fa7a20ad8a05d38\\setup.py\", line 37, in <module>\n",
      "      raise Exception(TF_REMOVAL_WARNING)\n",
      "  Exception:\n",
      "  \n",
      "  =========================================================\n",
      "  The \"tensorflow-gpu\" package has been removed!\n",
      "  \n",
      "  Please install \"tensorflow\" instead.\n",
      "  \n",
      "  Other than the name, the two packages have been identical\n",
      "  since TensorFlow 2.1, or roughly since Sep 2019. For more\n",
      "  information, see: pypi.org/project/tensorflow-gpu\n",
      "  =========================================================\n",
      "  \n",
      "  \n",
      "  [end of output]\n",
      "  \n",
      "  note: This error originates from a subprocess, and is likely not a problem with pip.\n",
      "  ERROR: Failed building wheel for tensorflow-gpu\n",
      "  error: subprocess-exited-with-error\n",
      "  \n",
      "  Running setup.py install for tensorflow-gpu did not run successfully.\n",
      "  exit code: 1\n",
      "  \n",
      "  [18 lines of output]\n",
      "  Traceback (most recent call last):\n",
      "    File \"<string>\", line 2, in <module>\n",
      "    File \"<pip-setuptools-caller>\", line 34, in <module>\n",
      "    File \"C:\\Users\\saiku\\AppData\\Local\\Temp\\pip-install-074s0f_q\\tensorflow-gpu_26fd317cf81740728fa7a20ad8a05d38\\setup.py\", line 37, in <module>\n",
      "      raise Exception(TF_REMOVAL_WARNING)\n",
      "  Exception:\n",
      "  \n",
      "  =========================================================\n",
      "  The \"tensorflow-gpu\" package has been removed!\n",
      "  \n",
      "  Please install \"tensorflow\" instead.\n",
      "  \n",
      "  Other than the name, the two packages have been identical\n",
      "  since TensorFlow 2.1, or roughly since Sep 2019. For more\n",
      "  information, see: pypi.org/project/tensorflow-gpu\n",
      "  =========================================================\n",
      "  \n",
      "  \n",
      "  [end of output]\n",
      "  \n",
      "  note: This error originates from a subprocess, and is likely not a problem with pip.\n",
      "error: legacy-install-failure\n",
      "\n",
      "Encountered error while trying to install package.\n",
      "\n",
      "tensorflow-gpu\n",
      "\n",
      "note: This is an issue with the package mentioned above, not pip.\n",
      "hint: See above for output from the failure.\n"
     ]
    }
   ],
   "source": [
    "!pip install --upgrade tensorflow-gpu"
   ]
  },
  {
   "cell_type": "code",
   "execution_count": 1,
   "id": "821ad1ea",
   "metadata": {},
   "outputs": [
    {
     "name": "stdout",
     "output_type": "stream",
     "text": [
      "Requirement already satisfied: textSummarizer in c:\\users\\saiku\\desktop\\nlp project\\text_summerization\\src (0.0.0)\n"
     ]
    }
   ],
   "source": [
    "! pip install textSummarizer"
   ]
  },
  {
   "cell_type": "code",
   "execution_count": 1,
   "id": "ca8ae0a2",
   "metadata": {},
   "outputs": [],
   "source": [
    "import textSummarizer"
   ]
  },
  {
   "cell_type": "code",
   "execution_count": null,
   "id": "ad6aa398",
   "metadata": {},
   "outputs": [],
   "source": []
  }
 ],
 "metadata": {
  "kernelspec": {
   "display_name": "Python 3 (ipykernel)",
   "language": "python",
   "name": "python3"
  },
  "language_info": {
   "codemirror_mode": {
    "name": "ipython",
    "version": 3
   },
   "file_extension": ".py",
   "mimetype": "text/x-python",
   "name": "python",
   "nbconvert_exporter": "python",
   "pygments_lexer": "ipython3",
   "version": "3.9.13"
  }
 },
 "nbformat": 4,
 "nbformat_minor": 5
}
